{
 "cells": [
  {
   "cell_type": "markdown",
   "id": "96f03fc2-8b1c-4a9a-8d3c-8bf0064a9bc3",
   "metadata": {},
   "source": [
    "### Import Libraries"
   ]
  },
  {
   "cell_type": "code",
   "execution_count": 1,
   "id": "0ed236a3-2cb6-4792-8370-e68b74505611",
   "metadata": {},
   "outputs": [],
   "source": [
    "import random  # for random numbers\n",
    "import csv     # for reading/writting csv\n",
    "import statistics as s  # for statistical analisis"
   ]
  },
  {
   "cell_type": "markdown",
   "id": "49d890a9-7dcf-4645-8003-f660f146e48a",
   "metadata": {},
   "source": [
    "### Simulate Dice Rolls"
   ]
  },
  {
   "cell_type": "code",
   "execution_count": 2,
   "id": "099cbb8f-8dee-4e8d-bc8d-80d625cfb769",
   "metadata": {},
   "outputs": [],
   "source": [
    "def sim(rolls, dice, sides):\n",
    "    data = []  # list to store data\n",
    "    sides = dice * sides  # max roll\n",
    "    \n",
    "    for i in range(rolls): # for loop for the amount of rolls\n",
    "        data.append([i + 1, random.randint(1, sides)])  # roll dice and append roll and index to data\n",
    "    return data # return the data"
   ]
  },
  {
   "cell_type": "markdown",
   "id": "de342db6-3688-4aa2-b5b7-ae90c3e4ac1d",
   "metadata": {},
   "source": [
    "### Save Data to CSV"
   ]
  },
  {
   "cell_type": "code",
   "execution_count": 3,
   "id": "b0960189-64bd-48c9-b39f-628df6cbeb6f",
   "metadata": {},
   "outputs": [],
   "source": [
    "def save(data):\n",
    "    with open(\"data.csv\", mode='w', newline='') as file: # opens file to write\n",
    "        writer = csv.writer(file) # defines writer\n",
    "        writer.writerow(['index', 'value'])  # write header\n",
    "        for row in data: # for loop to write each row \n",
    "            writer.writerow(row)  # write row"
   ]
  },
  {
   "cell_type": "markdown",
   "id": "e5f98451-3a65-4f8d-a332-22419b7ce349",
   "metadata": {},
   "source": [
    "### Analyze Data"
   ]
  },
  {
   "cell_type": "code",
   "execution_count": 4,
   "id": "1df4e0e7-03ff-414f-9c02-3d46814bd21c",
   "metadata": {},
   "outputs": [],
   "source": [
    "def analyze(csv_file):\n",
    "    rolls = 0 # defines variable to store amount of rolls\n",
    "    average = 0 # defines variable to store average\n",
    "    total = 0 # defines variable to store combined value of rolls\n",
    "    data = [] # defines list to store data\n",
    "    \n",
    "    with open(csv_file, mode='r') as file: # open file to read\n",
    "        reader = csv.reader(file) # defines reader\n",
    "        next(reader) # skips csv header\n",
    "        \n",
    "        for row in reader: # reads row by row\n",
    "            value = int(row[1]) # extracts value of row\n",
    "            rolls += 1 # adds 1 to amount of rolls\n",
    "            total += value # adds roll to combined value\n",
    "            data.append(value) # appends value of row to data\n",
    "    \n",
    "    average = total / rolls # calculates average\n",
    "    mode = s.mode(data) # calculates mode\n",
    "    std = s.stdev(data) # calculate standard deviation\n",
    "    variance = s.variance(data) # calculates variance\n",
    "\n",
    "    return average, mode, std, variance # returns data"
   ]
  },
  {
   "cell_type": "markdown",
   "id": "e6a0b790-5387-48b1-bc4e-b356ebefae54",
   "metadata": {},
   "source": [
    "### Call Simulation Based on Input"
   ]
  },
  {
   "cell_type": "code",
   "execution_count": 5,
   "id": "f5bf2796-761f-4d6a-ab63-e9c3830507b0",
   "metadata": {},
   "outputs": [],
   "source": [
    "rolls = int(input(\"How many rolls?: \")) # define how many times to roll\n",
    "dice = int(input(\"How many dice?: \")) # define how many dice get rolled\n",
    "sides = int(input(\"How many sides?: \")) # define how many sides each die has\n",
    "\n",
    "save(sim(rolls, dice, sides)) # calls simulation and saves"
   ]
  },
  {
   "cell_type": "markdown",
   "id": "5468388a-4903-4647-965d-b61ace156a91",
   "metadata": {},
   "source": [
    "### Analyze Results and Print"
   ]
  },
  {
   "cell_type": "code",
   "execution_count": null,
   "id": "b29fbc8d-0341-455d-9cd4-6f2b1c2d35d2",
   "metadata": {},
   "outputs": [],
   "source": [
    "average, mode, std, variance = analyze(\"data.csv\") # call analyze function and set variables to output\n",
    "\n",
    "print(f'''\n",
    "Results\n",
    "---------- \n",
    "Average: {average} \n",
    "Mode: {mode} \n",
    "Standard Deviation: {std} \n",
    "Variance: {variance}\n",
    "    ''') # prints results"
   ]
  }
 ],
 "metadata": {
  "kernelspec": {
   "display_name": "Python 3",
   "language": "python",
   "name": "python3"
  },
  "language_info": {
   "codemirror_mode": {
    "name": "ipython",
    "version": 3
   },
   "file_extension": ".py",
   "mimetype": "text/x-python",
   "name": "python",
   "nbconvert_exporter": "python",
   "pygments_lexer": "ipython3",
   "version": "3.12.5"
  }
 },
 "nbformat": 4,
 "nbformat_minor": 5
}
